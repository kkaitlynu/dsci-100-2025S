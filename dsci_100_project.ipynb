{
 "cells": [
  {
   "cell_type": "markdown",
   "id": "ab9607c2-bcbc-4557-b102-033e6099cdad",
   "metadata": {},
   "source": [
    "# DSCI 100 Final Project \n",
    "\n",
    "## Analysis of player activity patterns by time of day on a Minecraft research server\n",
    "*Kaitlyn Uy 34370213 for DSCI 100-103 2025S*"
   ]
  },
  {
   "cell_type": "code",
   "execution_count": 4,
   "id": "83836d31-ae35-4b28-a5b4-9634c6a623d0",
   "metadata": {},
   "outputs": [],
   "source": [
    "## Load in libraries (run this cell before contiuing)\n",
    "library(tidyverse)\n",
    "library(repr)\n",
    "library(infer)\n",
    "library(cowplot)\n",
    "options(repr.matrix.max.rows = 6)"
   ]
  },
  {
   "cell_type": "markdown",
   "id": "893bae5b-5772-49ec-a2b4-6621ca0bd042",
   "metadata": {},
   "source": [
    "## Introduction "
   ]
  },
  {
   "cell_type": "markdown",
   "id": "852b0e22-a249-4a12-8ec5-694bc629d64b",
   "metadata": {},
   "source": [
    "Minecraft, developed by Mojang Studios and released in 2011, is a 3D sandbox video game in which players can freely explore, build, and interact with the virtual environment in a world composed of blocks and entities. At the University of British Columbia, a research group in the Department Computer Science led by Frank Wood has created a Minecraft server to collect data on player behaviour.\n",
    "Understanding player activity patterns is vital for effective server management. Since servers are often limited by their resources, the research team must be able to predict periods of high demand to ensure a smooth player experience. Using historical session data, this project aims to identify the times of day when player activity is at its highest.\n",
    "\n",
    "The question we aim to answer in this report is: *can the **hour of day** predict the number of concurrent active players on the Minecraft research server, based on play session data?* The response variable in this analysis is the number of concurrent active players, aggregated by hour. The primary explanatory variable we focus on is hour of day. Other potential variables for future research could include day of week (e.g. whether it is a weekend), month, or season. \n",
    "\n",
    "The dataset used in this analysis, **sessions.csv**, contains 1535 rows and 5 columns containing player session information on the Minecraft research server. Each row indicates a single play session with the following variables.\n",
    "\n",
    "| Variable             | Type       | Description                                                      |\n",
    "|----------------------|------------|------------------------------------------------------------------|\n",
    "| `hashed_email`       | Character  | Anonymized unique player identifier                              |\n",
    "| `start_time`         | String     | Human-readable session start time (DD/MM/YYYY HH:MM)             |\n",
    "| `end_time`           | String     | Human-readable session end time                                  |\n",
    "| `original_start_time`| Numeric    | Epoch time in milliseconds (raw server timestamp)                |\n",
    "| `original_end_time`  | Numeric    | Epoch time in milliseconds (raw server timestamp)                |\n",
    "\n",
    "\n",
    "The dataset, collected via server logs, spans several months of server activity, with session lengths varying from a few minutes to multiple hours. As player data is anonymized, this dataset may be limited to a certain demographic, thus misrepresenting the target population. Furthermore, overlapping sessions, or those that cross hourly or daily boundaries require careful analysis in order to produce accurate player counts.\n"
   ]
  },
  {
   "cell_type": "markdown",
   "id": "4a2f01c5-11b3-4a1a-8661-8119e29c7b1a",
   "metadata": {},
   "source": [
    "### *Question: What **times of day** are most likely to have high numbers of active players on the Minecraft research server?*"
   ]
  },
  {
   "cell_type": "markdown",
   "id": "9b053467-5594-4097-9e58-e6a71d26ba10",
   "metadata": {},
   "source": [
    "## Methods and results "
   ]
  },
  {
   "cell_type": "code",
   "execution_count": 2,
   "id": "5f9aa41c-36ac-47b1-9270-d2c19faf2fd3",
   "metadata": {},
   "outputs": [
    {
     "name": "stderr",
     "output_type": "stream",
     "text": [
      "\u001b[1mRows: \u001b[22m\u001b[34m1535\u001b[39m \u001b[1mColumns: \u001b[22m\u001b[34m5\u001b[39m\n",
      "\u001b[36m──\u001b[39m \u001b[1mColumn specification\u001b[22m \u001b[36m────────────────────────────────────────────────────────\u001b[39m\n",
      "\u001b[1mDelimiter:\u001b[22m \",\"\n",
      "\u001b[31mchr\u001b[39m (3): hashedEmail, start_time, end_time\n",
      "\u001b[32mdbl\u001b[39m (2): original_start_time, original_end_time\n",
      "\n",
      "\u001b[36mℹ\u001b[39m Use `spec()` to retrieve the full column specification for this data.\n",
      "\u001b[36mℹ\u001b[39m Specify the column types or set `show_col_types = FALSE` to quiet this message.\n"
     ]
    },
    {
     "data": {
      "text/html": [
       "<table class=\"dataframe\">\n",
       "<caption>A tibble: 6 × 5</caption>\n",
       "<thead>\n",
       "\t<tr><th scope=col>hashedEmail</th><th scope=col>start_time</th><th scope=col>end_time</th><th scope=col>original_start_time</th><th scope=col>original_end_time</th></tr>\n",
       "\t<tr><th scope=col>&lt;chr&gt;</th><th scope=col>&lt;chr&gt;</th><th scope=col>&lt;chr&gt;</th><th scope=col>&lt;dbl&gt;</th><th scope=col>&lt;dbl&gt;</th></tr>\n",
       "</thead>\n",
       "<tbody>\n",
       "\t<tr><td>bfce39c89d6549f2bb94d8064d3ce69dc3d7e72b38f431d8aa0c4bf95ccee6bf</td><td>30/06/2024 18:12</td><td>30/06/2024 18:24</td><td>1.71977e+12</td><td>1.71977e+12</td></tr>\n",
       "\t<tr><td>36d9cbb4c6bc0c1a6911436d2da0d09ec625e43e6552f575d4acc9cf487c4686</td><td>17/06/2024 23:33</td><td>17/06/2024 23:46</td><td>1.71867e+12</td><td>1.71867e+12</td></tr>\n",
       "\t<tr><td>f8f5477f5a2e53616ae37421b1c660b971192bd8ff77e3398304c7ae42581fdc</td><td>25/07/2024 17:34</td><td>25/07/2024 17:57</td><td>1.72193e+12</td><td>1.72193e+12</td></tr>\n",
       "\t<tr><td>bfce39c89d6549f2bb94d8064d3ce69dc3d7e72b38f431d8aa0c4bf95ccee6bf</td><td>25/07/2024 03:22</td><td>25/07/2024 03:58</td><td>1.72188e+12</td><td>1.72188e+12</td></tr>\n",
       "\t<tr><td>36d9cbb4c6bc0c1a6911436d2da0d09ec625e43e6552f575d4acc9cf487c4686</td><td>25/05/2024 16:01</td><td>25/05/2024 16:12</td><td>1.71665e+12</td><td>1.71665e+12</td></tr>\n",
       "\t<tr><td>bfce39c89d6549f2bb94d8064d3ce69dc3d7e72b38f431d8aa0c4bf95ccee6bf</td><td>23/06/2024 15:08</td><td>23/06/2024 17:10</td><td>1.71916e+12</td><td>1.71916e+12</td></tr>\n",
       "</tbody>\n",
       "</table>\n"
      ],
      "text/latex": [
       "A tibble: 6 × 5\n",
       "\\begin{tabular}{lllll}\n",
       " hashedEmail & start\\_time & end\\_time & original\\_start\\_time & original\\_end\\_time\\\\\n",
       " <chr> & <chr> & <chr> & <dbl> & <dbl>\\\\\n",
       "\\hline\n",
       "\t bfce39c89d6549f2bb94d8064d3ce69dc3d7e72b38f431d8aa0c4bf95ccee6bf & 30/06/2024 18:12 & 30/06/2024 18:24 & 1.71977e+12 & 1.71977e+12\\\\\n",
       "\t 36d9cbb4c6bc0c1a6911436d2da0d09ec625e43e6552f575d4acc9cf487c4686 & 17/06/2024 23:33 & 17/06/2024 23:46 & 1.71867e+12 & 1.71867e+12\\\\\n",
       "\t f8f5477f5a2e53616ae37421b1c660b971192bd8ff77e3398304c7ae42581fdc & 25/07/2024 17:34 & 25/07/2024 17:57 & 1.72193e+12 & 1.72193e+12\\\\\n",
       "\t bfce39c89d6549f2bb94d8064d3ce69dc3d7e72b38f431d8aa0c4bf95ccee6bf & 25/07/2024 03:22 & 25/07/2024 03:58 & 1.72188e+12 & 1.72188e+12\\\\\n",
       "\t 36d9cbb4c6bc0c1a6911436d2da0d09ec625e43e6552f575d4acc9cf487c4686 & 25/05/2024 16:01 & 25/05/2024 16:12 & 1.71665e+12 & 1.71665e+12\\\\\n",
       "\t bfce39c89d6549f2bb94d8064d3ce69dc3d7e72b38f431d8aa0c4bf95ccee6bf & 23/06/2024 15:08 & 23/06/2024 17:10 & 1.71916e+12 & 1.71916e+12\\\\\n",
       "\\end{tabular}\n"
      ],
      "text/markdown": [
       "\n",
       "A tibble: 6 × 5\n",
       "\n",
       "| hashedEmail &lt;chr&gt; | start_time &lt;chr&gt; | end_time &lt;chr&gt; | original_start_time &lt;dbl&gt; | original_end_time &lt;dbl&gt; |\n",
       "|---|---|---|---|---|\n",
       "| bfce39c89d6549f2bb94d8064d3ce69dc3d7e72b38f431d8aa0c4bf95ccee6bf | 30/06/2024 18:12 | 30/06/2024 18:24 | 1.71977e+12 | 1.71977e+12 |\n",
       "| 36d9cbb4c6bc0c1a6911436d2da0d09ec625e43e6552f575d4acc9cf487c4686 | 17/06/2024 23:33 | 17/06/2024 23:46 | 1.71867e+12 | 1.71867e+12 |\n",
       "| f8f5477f5a2e53616ae37421b1c660b971192bd8ff77e3398304c7ae42581fdc | 25/07/2024 17:34 | 25/07/2024 17:57 | 1.72193e+12 | 1.72193e+12 |\n",
       "| bfce39c89d6549f2bb94d8064d3ce69dc3d7e72b38f431d8aa0c4bf95ccee6bf | 25/07/2024 03:22 | 25/07/2024 03:58 | 1.72188e+12 | 1.72188e+12 |\n",
       "| 36d9cbb4c6bc0c1a6911436d2da0d09ec625e43e6552f575d4acc9cf487c4686 | 25/05/2024 16:01 | 25/05/2024 16:12 | 1.71665e+12 | 1.71665e+12 |\n",
       "| bfce39c89d6549f2bb94d8064d3ce69dc3d7e72b38f431d8aa0c4bf95ccee6bf | 23/06/2024 15:08 | 23/06/2024 17:10 | 1.71916e+12 | 1.71916e+12 |\n",
       "\n"
      ],
      "text/plain": [
       "  hashedEmail                                                     \n",
       "1 bfce39c89d6549f2bb94d8064d3ce69dc3d7e72b38f431d8aa0c4bf95ccee6bf\n",
       "2 36d9cbb4c6bc0c1a6911436d2da0d09ec625e43e6552f575d4acc9cf487c4686\n",
       "3 f8f5477f5a2e53616ae37421b1c660b971192bd8ff77e3398304c7ae42581fdc\n",
       "4 bfce39c89d6549f2bb94d8064d3ce69dc3d7e72b38f431d8aa0c4bf95ccee6bf\n",
       "5 36d9cbb4c6bc0c1a6911436d2da0d09ec625e43e6552f575d4acc9cf487c4686\n",
       "6 bfce39c89d6549f2bb94d8064d3ce69dc3d7e72b38f431d8aa0c4bf95ccee6bf\n",
       "  start_time       end_time         original_start_time original_end_time\n",
       "1 30/06/2024 18:12 30/06/2024 18:24 1.71977e+12         1.71977e+12      \n",
       "2 17/06/2024 23:33 17/06/2024 23:46 1.71867e+12         1.71867e+12      \n",
       "3 25/07/2024 17:34 25/07/2024 17:57 1.72193e+12         1.72193e+12      \n",
       "4 25/07/2024 03:22 25/07/2024 03:58 1.72188e+12         1.72188e+12      \n",
       "5 25/05/2024 16:01 25/05/2024 16:12 1.71665e+12         1.71665e+12      \n",
       "6 23/06/2024 15:08 23/06/2024 17:10 1.71916e+12         1.71916e+12      "
      ]
     },
     "metadata": {},
     "output_type": "display_data"
    }
   ],
   "source": [
    "sessions_df <- read_csv(\"data/sessions.csv\") \n",
    "head(sessions_df) "
   ]
  },
  {
   "cell_type": "markdown",
   "id": "3f990c13-6de8-4d49-8c4f-ac98f0e2a7b3",
   "metadata": {},
   "source": [
    "- describe the methods you used to perform your analysis from beginning to end that narrates the analysis code.\n",
    "- your report should include code which:\n",
    "    - loads data\n",
    "    - wrangles and cleans the data to the format necessary for the planned analysis\n",
    "    - performs a summary of the data set that is relevant for exploratory data analysis related to the planned analysis\n",
    "    - creates a visualization of the dataset that is relevant for exploratory data analysis related to the planned analysis\n",
    "        - Use our visualization best practices to make high-quality plots (make sure to include labels, titles, units of measurement, etc)\n",
    "        - Explain any insights you gain from these plots that are relevant to address your question\n",
    "    - performs the data analysis. For your analysis, you should think about and provide a brief explanation of the following questions:\n",
    "        - Why is this method appropriate?\n",
    "        - Which assumptions are required, if any, to apply the method selected?\n",
    "        - What are the potential limitations or weaknesses of the method selected?\n",
    "        - How did you compare and select the model?\n",
    "        - Note: you should also think about the following:\n",
    "            - How are you going to process the data to apply the model? For example: Are you splitting the data? How? How many splits? What proportions will you use for the splits? At what stage will you split? Will there be a validation set? Will you use cross validation?\n",
    "    - creates a visualization of the analysis\n",
    "    - *note: all figures should have a figure number and a legend*"
   ]
  },
  {
   "cell_type": "markdown",
   "id": "4606b4c7-4e07-446e-8bdb-db0b155408c8",
   "metadata": {},
   "source": [
    "## Discussion"
   ]
  },
  {
   "cell_type": "code",
   "execution_count": 3,
   "id": "a7e6d0b3-16d7-4cca-ab47-990b6742ebf9",
   "metadata": {},
   "outputs": [
    {
     "ename": "ERROR",
     "evalue": "Error in parse(text = x, srcfile = src): <text>:1:13: unexpected symbol\n1: - summarize what\n                ^\n",
     "output_type": "error",
     "traceback": [
      "Error in parse(text = x, srcfile = src): <text>:1:13: unexpected symbol\n1: - summarize what\n                ^\nTraceback:\n"
     ]
    }
   ],
   "source": [
    "- summarize what you found\n",
    "- discuss whether this is what you expected to find?\n",
    "- discuss what impact could such findings have?\n",
    "- discuss what future questions could this lead to?"
   ]
  },
  {
   "cell_type": "markdown",
   "id": "3d8bc333-a780-475c-bffb-63bd1fa0b4a1",
   "metadata": {},
   "source": [
    "## References"
   ]
  }
 ],
 "metadata": {
  "kernelspec": {
   "display_name": "R",
   "language": "R",
   "name": "ir"
  },
  "language_info": {
   "codemirror_mode": "r",
   "file_extension": ".r",
   "mimetype": "text/x-r-source",
   "name": "R",
   "pygments_lexer": "r",
   "version": "4.3.3"
  }
 },
 "nbformat": 4,
 "nbformat_minor": 5
}
