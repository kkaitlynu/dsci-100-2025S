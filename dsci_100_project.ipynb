{
 "cells": [
  {
   "cell_type": "markdown",
   "id": "ab9607c2-bcbc-4557-b102-033e6099cdad",
   "metadata": {},
   "source": [
    "# DSCI 100 Final Project \n",
    "\n",
    "## Analysis of player activity patterns by time of day on a Minecraft research server\n",
    "*Kaitlyn Uy 34370213 for DSCI 100-103 2025S*"
   ]
  },
  {
   "cell_type": "code",
   "execution_count": 3,
   "id": "83836d31-ae35-4b28-a5b4-9634c6a623d0",
   "metadata": {},
   "outputs": [],
   "source": [
    "## Load in libraries (run this cell before contiuing)\n",
    "library(tidyverse)\n",
    "library(tidyr)\n",
    "library(repr)\n",
    "library(infer)\n",
    "library(cowplot)\n",
    "library(dplyr) \n",
    "library(purrr)\n",
    "library(lubridate) \n",
    "library(janitor)\n",
    "options(repr.matrix.max.rows = 6)"
   ]
  },
  {
   "cell_type": "markdown",
   "id": "893bae5b-5772-49ec-a2b4-6621ca0bd042",
   "metadata": {},
   "source": [
    "## Introduction "
   ]
  },
  {
   "cell_type": "markdown",
   "id": "852b0e22-a249-4a12-8ec5-694bc629d64b",
   "metadata": {
    "jp-MarkdownHeadingCollapsed": true
   },
   "source": [
    "Minecraft, developed by Mojang Studios and released in 2011, is a 3D sandbox video game in which players can freely explore, build, and interact with the virtual environment in a world composed of blocks and entities [1]. At the University of British Columbia, a research group in the Department Computer Science led by Frank Wood has created a Minecraft server to collect data on player behaviour.\n",
    "Understanding player activity patterns is vital for effective server management. Since servers are often limited by their resources, the research team must be able to predict periods of high demand to ensure a smooth player experience. Using historical session data, this project aims to identify the times of day when player activity is at its highest."
   ]
  },
  {
   "cell_type": "markdown",
   "id": "4a2f01c5-11b3-4a1a-8661-8119e29c7b1a",
   "metadata": {},
   "source": [
    "### *Question: Can the **hour of day** predict the number of concurrent active players on the Minecraft research server, based on play session data?*"
   ]
  },
  {
   "cell_type": "markdown",
   "id": "4db56800-894d-488a-9054-c48fbde4d44d",
   "metadata": {},
   "source": [
    "The question we aim to answer in this report is: *can the **hour of day** predict the number of concurrent active players on the Minecraft research server, based on play session data?* The response variable in this analysis is the number of concurrent active players, aggregated by hour. The primary explanatory variable we focus on is hour of day. Other potential variables for future research could include day of week (e.g. whether it is a weekend), month, or season. \n",
    "\n",
    "The dataset used in this analysis, **sessions.csv**, contains 1535 rows and 5 columns containing player session information on the Minecraft research server. Each row indicates a single play session with the following variables:\n",
    "\n",
    "| Variable             | Type       | Description                                              |\n",
    "|----------------------|------------|----------------------------------------------------------|\n",
    "| `hashed_email`       | Character  | Anonymized player identifier                             |\n",
    "| `start_time`         | String     | Human-readable session start time (in DD/MM/YYYY HH:MM)  |\n",
    "| `end_time`           | String     | Human-readable session end time (in DD/MM/YYYY HH:MM)    |\n",
    "| `original_start_time`| Numeric    | UNIX Epoch time in milliseconds (raw server timestamp)   |\n",
    "| `original_end_time`  | Numeric    | UNIX Epoch time in milliseconds (raw server timestamp)   |\n",
    "\n",
    "\n",
    "The dataset, collected via server logs, spans several months of server activity, with session lengths varying from a few minutes to multiple hours. As player data is anonymized, this dataset may be limited to a certain demographic, thus misrepresenting the target population. Furthermore, overlapping sessions, or those that cross hourly or daily boundaries require careful analysis in order to produce accurate player counts.\n"
   ]
  },
  {
   "cell_type": "markdown",
   "id": "9b053467-5594-4097-9e58-e6a71d26ba10",
   "metadata": {},
   "source": [
    "## Methods and results "
   ]
  },
  {
   "cell_type": "markdown",
   "id": "a55c0690-ed29-4c4d-b2c6-4e58941cdb8b",
   "metadata": {},
   "source": [
    "First, start by downloading the data and reading it in. It has variables that are not necessary, so we will take them out. The columns that we want to focus on are `start_time` and `end_time`. We will convert the strings into datetime objects and extract time-of-day features from them. The `original_start_time` and `original_end_time` columns could be used in future work for more precision. "
   ]
  },
  {
   "cell_type": "code",
   "execution_count": 26,
   "id": "5f9aa41c-36ac-47b1-9270-d2c19faf2fd3",
   "metadata": {},
   "outputs": [],
   "source": [
    "## Read in the data and show the start of the table\n",
    "# sessions_df <- read_csv(\"data/sessions.csv\") \n",
    "\n",
    "## Create a new column, `duration`, by converting strings and calculating the total time between start and end time\n",
    "sessions <- sessions_df |> \n",
    "    clean_names() |> \n",
    "    select(start_time:end_time) |> \n",
    "    mutate(start_time = dmy_hm(start_time),\n",
    "    end_time = dmy_hm(end_time), \n",
    "    duration = as.numeric(difftime(end_time, start_time, units = \"mins\")))\n",
    "# head(sessions)"
   ]
  },
  {
   "cell_type": "markdown",
   "id": "eb6949d7-b139-45bb-b904-ff24e32ddaf9",
   "metadata": {},
   "source": [
    "For the busiest hours, we will generate bootstrap samples by resampling the given data with replacement and then calculate bootstrap distributions of mean player counts. "
   ]
  },
  {
   "cell_type": "code",
   "execution_count": 27,
   "id": "faa8f295-5086-4d2a-9b08-289f3766480c",
   "metadata": {},
   "outputs": [],
   "source": [
    "## Make visualizations of each hour \n",
    "sessions_clean <- sessions |> \n",
    "  filter(!is.na(start_time), !is.na(end_time), end_time >= start_time)\n",
    "\n",
    "expanded_sessions <- sessions_clean |> \n",
    "  rowwise() |>                           \n",
    "  mutate(hours = list(seq(floor_date(start_time, \"hour\"), ceiling_date(end_time, \"hour\") - hours(1), by = \"hour\"))) |> \n",
    "  unnest(hours)\n",
    "# head(expanded_sessions)\n",
    "\n",
    "# Create hour-of-day variable\n",
    "expanded_sessions <- expanded_sessions |>\n",
    "    mutate(hour_of_day = hour(hours))\n",
    "\n",
    "# Count number of players per hour per day\n",
    "hourly_counts <- expanded_sessions |> \n",
    "    count(date = as_date(hours), hour_of_day)\n",
    "\n",
    "# Average across all days\n",
    "hourly_summary <- hourly_counts |> \n",
    "    group_by(hour_of_day) |> \n",
    "    summarise(avg_players = mean(n), .groups = \"drop\")\n",
    "\n",
    "# Plot average players \n",
    "average_plot <- ggplot(hourly_summary, aes(x = hour_of_day, y = avg_players)) +\n",
    "    geom_col(fill = \"steelblue\") +\n",
    "    scale_x_continuous(breaks = 0:23) +\n",
    "    labs(\n",
    "        title = \"Average number of concurrent players by hour of day\", x = \"Hour of day (0–23)\", y = \"Average concurrent players\") +\n",
    "  theme_minimal()\n",
    "# average_plot"
   ]
  },
  {
   "cell_type": "code",
   "execution_count": null,
   "id": "bb67ecce-6b18-4a66-a20f-bc9e78953fec",
   "metadata": {},
   "outputs": [],
   "source": [
    "## Bootstrap for the busiest hours so that we can give a confidence interval \n",
    "\n",
    "# Hours of interest\n",
    "hours_of_interest <- c(0, 2, 3, 4, 23)\n",
    "\n",
    "# Filter and prepare data\n",
    "subset_sessions <- expanded_sessions |> \n",
    "  filter(hour(hours) %in% hours_of_interest) |> \n",
    "  mutate(hour_of_day = hour(hours))"
   ]
  },
  {
   "cell_type": "markdown",
   "id": "3f990c13-6de8-4d49-8c4f-ac98f0e2a7b3",
   "metadata": {},
   "source": [
    "PROJECT PATH: \n",
    "\n",
    "1. load and clean data using sessions.csv, focus on timestamps and user IDs → *code cells will download a dataset, reproducibly and sensibly wrangle and clean* \n",
    "    1. calculate session lengths (convert strings into date, then mutate to create new column ‘duration’ through end_time - start_time \n",
    "    2. calculate mean concurrent players per hour, for each hour → identify the top busies hours and then resample the relevant session data (with replacement and calculate bootstrap mean of number of players, iterate, then use quantile() to get 95% CI) \n",
    "2. create hourly/daily counts → *summarize and visualize the data* \n",
    "    1. add short section summarizing number of sessions per day, range of session lengths, brief comment on general shape of traffic over time - probably good to put one large histogram showing total player count per hour across all days → for summary (main results section) \n",
    "3. plot traffic by hour/day and find peak windows → *appropriately answer a predictive question* \n",
    "    1. histogram of player count per hour of the day (0-23), can bootstrap mean counts per hour \n",
    "        1. apply statistical model- bootstrap confidence intervals **for the busiest hours only** to understand variability in peak player counts \n",
    "4. use markdown to narrate analysis and communicate question asked- assumptions and limitations \n",
    "    1. why bootstrapping is appropriate → summarizing average hourly traffic, can give confidence intervals on averages without making strong assumptions, since we’re estimating means/medians and their uncertainty- we can make the assumption that this dataset is a single sample from a greater population and that based on the CIs that we get from this analysis, we can use it to predict how a larger population would behave (representative sample); bootstrapping resamples data directly and lets us estimate uncertainty without relying on assumptions about distribution\n",
    "    2. estimating mean concurrent players per hour -> choose bootstrapping since we aren't clustering or trying to predict a new category; no complex model assumptions. therefore, using cross-validation is unnecessary. \n",
    "        1. key assumptions of bootstrapping: we must assume that the data is a representative sample - sessions span range of dates and hours for natural variability. We will treat each row as an independent unit that can be resampled, and we are estimating a statistic - mean/median number of concurrent players per hour, so the sample size is large enough for the bootstrap distribution to estimate the true sampling distribution\n",
    "        2. limitations: dataset isn’t from random sampling/sessions may not be independent since the same user can play multiple times, dataset may also not be perfectly representative; bootstrapping doesn't perfectly portray future trends, only uncertainty estimates; also only focusing on hour of day, so results may not be nuanced enough\n",
    "        4. used 95% CI to estimate the range of average concurrent players for the busiest hours \n",
    "5. submit as .pdf which includes a link to github repo and an .ipynb file that is fully reproducible and runs from top to bottom without additional files"
   ]
  },
  {
   "cell_type": "markdown",
   "id": "4606b4c7-4e07-446e-8bdb-db0b155408c8",
   "metadata": {},
   "source": [
    "## Discussion"
   ]
  },
  {
   "cell_type": "markdown",
   "id": "4a9cdc91-4bd1-4e1f-8937-a04a19c98ca2",
   "metadata": {},
   "source": [
    "- summarize what you found\n",
    "- discuss whether this is what you expected to find?\n",
    "- discuss what impact could such findings have?\n",
    "- discuss what future questions could this lead to?"
   ]
  },
  {
   "cell_type": "markdown",
   "id": "3d8bc333-a780-475c-bffb-63bd1fa0b4a1",
   "metadata": {},
   "source": [
    "## References"
   ]
  },
  {
   "cell_type": "markdown",
   "id": "e430aa90-4b0c-4982-b6b8-0a418aa90259",
   "metadata": {},
   "source": [
    "[1] https://minecraft.fandom.com/wiki/Minecraft_Wiki"
   ]
  }
 ],
 "metadata": {
  "kernelspec": {
   "display_name": "R",
   "language": "R",
   "name": "ir"
  },
  "language_info": {
   "codemirror_mode": "r",
   "file_extension": ".r",
   "mimetype": "text/x-r-source",
   "name": "R",
   "pygments_lexer": "r",
   "version": "4.3.3"
  }
 },
 "nbformat": 4,
 "nbformat_minor": 5
}
