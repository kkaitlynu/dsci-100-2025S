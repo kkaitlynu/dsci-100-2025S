{
 "cells": [
  {
   "cell_type": "markdown",
   "id": "ab9607c2-bcbc-4557-b102-033e6099cdad",
   "metadata": {},
   "source": [
    "# DSCI 100 Final Project \n",
    "\n",
    "## Analysis of player activity patterns by time of day on a Minecraft research server\n",
    "*Kaitlyn Uy 34370213 for DSCI 100-103 2025S*"
   ]
  },
  {
   "cell_type": "markdown",
   "id": "893bae5b-5772-49ec-a2b4-6621ca0bd042",
   "metadata": {},
   "source": [
    "## Introduction "
   ]
  },
  {
   "cell_type": "markdown",
   "id": "852b0e22-a249-4a12-8ec5-694bc629d64b",
   "metadata": {},
   "source": [
    "- Background: provide some relevant background information on the topic so that someone unfamiliar with it will be prepared to understand the rest of your report\n",
    "- Question(s): clearly state the question you tried to answer with your project. Your question should involve one response variable of interest and one or more explanatory variables, and should be stated as a question. One common question format is: “Can [explanatory variable(s)] predict [response variable] in [dataset]?”, but you are free to format your question as you choose so long as it is clear.\n",
    "- Data Description: identify and fully describe the dataset that was used to answer the question. Provide a full descriptive summary of the dataset, including information such as the number of observations, summary statistics, number of variables, name and type of variables, what the variables mean, any issues you see in the data, any other potential issues related to things you cannot directly see, how the data were collected, etc. Make sure to use bullet point lists or tables to summarize the variables in an easy-to-understand format. Note that the selected dataset(s) will probably contain more variables than you need."
   ]
  },
  {
   "cell_type": "markdown",
   "id": "4a2f01c5-11b3-4a1a-8661-8119e29c7b1a",
   "metadata": {},
   "source": [
    "### *Question: What **times of day** are most likely to have high numbers of active players on the Minecraft research server?*"
   ]
  },
  {
   "cell_type": "markdown",
   "id": "9b053467-5594-4097-9e58-e6a71d26ba10",
   "metadata": {},
   "source": [
    "## Methods and results "
   ]
  },
  {
   "cell_type": "markdown",
   "id": "3f990c13-6de8-4d49-8c4f-ac98f0e2a7b3",
   "metadata": {},
   "source": [
    "- describe the methods you used to perform your analysis from beginning to end that narrates the analysis code.\n",
    "- your report should include code which:\n",
    "    - loads data\n",
    "    - wrangles and cleans the data to the format necessary for the planned analysis\n",
    "    - performs a summary of the data set that is relevant for exploratory data analysis related to the planned analysis\n",
    "    - creates a visualization of the dataset that is relevant for exploratory data analysis related to the planned analysis\n",
    "        - Use our visualization best practices to make high-quality plots (make sure to include labels, titles, units of measurement, etc)\n",
    "        - Explain any insights you gain from these plots that are relevant to address your question\n",
    "    - performs the data analysis. For your analysis, you should think about and provide a brief explanation of the following questions:\n",
    "        - Why is this method appropriate?\n",
    "        - Which assumptions are required, if any, to apply the method selected?\n",
    "        - What are the potential limitations or weaknesses of the method selected?\n",
    "        - How did you compare and select the model?\n",
    "        - Note: you should also think about the following:\n",
    "            - How are you going to process the data to apply the model? For example: Are you splitting the data? How? How many splits? What proportions will you use for the splits? At what stage will you split? Will there be a validation set? Will you use cross validation?\n",
    "    - creates a visualization of the analysis\n",
    "    - *note: all figures should have a figure number and a legend*"
   ]
  },
  {
   "cell_type": "markdown",
   "id": "4606b4c7-4e07-446e-8bdb-db0b155408c8",
   "metadata": {},
   "source": [
    "## Discussion"
   ]
  },
  {
   "cell_type": "code",
   "execution_count": null,
   "id": "a7e6d0b3-16d7-4cca-ab47-990b6742ebf9",
   "metadata": {},
   "outputs": [],
   "source": [
    "- summarize what you found\n",
    "- discuss whether this is what you expected to find?\n",
    "- discuss what impact could such findings have?\n",
    "- discuss what future questions could this lead to?"
   ]
  },
  {
   "cell_type": "markdown",
   "id": "3d8bc333-a780-475c-bffb-63bd1fa0b4a1",
   "metadata": {},
   "source": [
    "## References"
   ]
  }
 ],
 "metadata": {
  "kernelspec": {
   "display_name": "R",
   "language": "R",
   "name": "ir"
  },
  "language_info": {
   "codemirror_mode": "r",
   "file_extension": ".r",
   "mimetype": "text/x-r-source",
   "name": "R",
   "pygments_lexer": "r",
   "version": "4.3.3"
  }
 },
 "nbformat": 4,
 "nbformat_minor": 5
}
